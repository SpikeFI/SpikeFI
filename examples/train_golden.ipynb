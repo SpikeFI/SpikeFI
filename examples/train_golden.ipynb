{
 "cells": [
  {
   "cell_type": "markdown",
   "id": "4b656481",
   "metadata": {},
   "source": [
    "# Example: _Train Golden_\n",
    "\n",
    "An example of training a fault-free SNN with SpikeFI.\n",
    "\n",
    "Training or running inference of a fault-free network with SpikeFI is equivalent to creating an empty FI campaign and executing it with run_train() or run() methods for training and inference phases, respectively."
   ]
  },
  {
   "cell_type": "code",
   "execution_count": null,
   "id": "76f8322b",
   "metadata": {},
   "outputs": [],
   "source": [
    "import torch\n",
    "import slayerSNN as snn\n",
    "import spikefi as sfi\n",
    "import demo"
   ]
  },
  {
   "cell_type": "markdown",
   "id": "51f425d6",
   "metadata": {},
   "source": [
    "## Configuration & Preparation"
   ]
  },
  {
   "cell_type": "code",
   "execution_count": null,
   "id": "aae2083c",
   "metadata": {},
   "outputs": [],
   "source": [
    "# Number of training epochs\n",
    "n_epochs = 2\n",
    "\n",
    "# Setup the fault simulation demo environment\n",
    "# Selects the case study, e.g., the LeNet network without dropout\n",
    "demo.prepare(casestudy='nmnist-lenet', dropout=False)\n",
    "\n",
    "# Create a network instance\n",
    "net = demo.Network(demo.net_params, demo.dropout_en).to(demo.device)\n",
    "trial = demo.get_trial()"
   ]
  },
  {
   "cell_type": "markdown",
   "id": "878f8928",
   "metadata": {},
   "source": [
    "## Training"
   ]
  },
  {
   "cell_type": "code",
   "execution_count": null,
   "id": "762d8fd9",
   "metadata": {},
   "outputs": [],
   "source": [
    "# Create the dataset loaders for the training and testing sets\n",
    "train_loader = demo.get_loader(train=True)\n",
    "test_loader = demo.get_loader(train=False)\n",
    "\n",
    "print(\"Training configuration:\")\n",
    "print(f\"  - case study: {demo.case_study}\")\n",
    "print(f\"  - dropout: {'yes' if demo.dropout_en else 'no'}\")\n",
    "print(f\"  - epochs number: {n_epochs}\")\n",
    "print(f\"  - trial: {trial}\")\n",
    "print()\n",
    "\n",
    "# SNN loss\n",
    "spike_loss = snn.loss(demo.net_params).to(demo.device)\n",
    "# Optimizer module\n",
    "optimizer = torch.optim.Adam(net.parameters(), lr=1e-3, amsgrad=True)\n",
    "\n",
    "# Create an empty FI campaign, which contains a single Fault Round\n",
    "# without any Faults\n",
    "cmpn_name = f\"{demo.get_base_fname(train=True)}_golden\"\n",
    "cmpn = sfi.Campaign(net, demo.shape_in, net.slayer, cmpn_name)\n",
    "\n",
    "# Execute the FI experiments (train a new network instance for each fault round)\n",
    "golden = cmpn.run_train(n_epochs, demo.get_loader(train=True), optimizer, spike_loss)[0]\n",
    "\n",
    "# Save trained network\n",
    "cmpn.save_net(golden, demo.get_fnetname(trial).split('.')[0])\n",
    "\n",
    "# Plot and save the learning curve(s)\n",
    "sfi.visual.learning_curve([cmpn.export()], format='png')"
   ]
  }
 ],
 "metadata": {
  "language_info": {
   "name": "python"
  }
 },
 "nbformat": 4,
 "nbformat_minor": 5
}
