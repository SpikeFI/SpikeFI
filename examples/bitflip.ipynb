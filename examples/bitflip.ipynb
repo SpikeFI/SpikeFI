{
 "cells": [
  {
   "cell_type": "markdown",
   "id": "d2b15543",
   "metadata": {},
   "source": [
    "# Example: _Bitflip_\n",
    "\n",
    "_An example to demonstrate a study of the network's resiliency to bitflips in the synaptic weights and the importance of the bit positions._\n",
    "\n",
    "First, the configuration parameters defining the FI campaigns, need to be set. The 'layers' parameter selects one or more layers subject to the FI experiments; the 'bits' parameter selects the targeted bit positions; and finally, the 'qdtype' parameter selects the precision of the quantized data type. Next, preparing the demo environment, loading the network, and creating a data loader for the testing set, a nested for loop iterates over the targeted layers and bit positions one at a time, in order to create a separate campaign object for each combination. Each FI campaign then injects a sample of maximum 250^2 synaptic weights with a bitflipped synapse error to the synapses of the current layer at the current bit position. Each fault is injected as a distinct fault round containing a single fault each, so that the network's reliability is examined with perspective to each synaptic weight and faulty bit position. At the end of each FI campaign execution, results are stored in a file and are visualized using a heat map plot, which is also saved as an image."
   ]
  },
  {
   "cell_type": "code",
   "execution_count": null,
   "id": "dea69c34",
   "metadata": {},
   "outputs": [],
   "source": [
    "import os\n",
    "import torch\n",
    "import slayerSNN as snn\n",
    "import spikefi as sfi\n",
    "from spikefi.utils.quantization import qargs_from_tensor\n",
    "import demo"
   ]
  },
  {
   "cell_type": "markdown",
   "id": "21e6962b",
   "metadata": {},
   "source": [
    "## Configuration"
   ]
  },
  {
   "cell_type": "code",
   "execution_count": null,
   "id": "d819ba65",
   "metadata": {},
   "outputs": [],
   "source": [
    "# Configuration parameters for the bitflip FI experiments\n",
    "# Select one or more layers to target\n",
    "layers = ['SF2']    # For example: 'SF2', 'SF1', 'SC3', 'SC2', 'SC1'\n",
    "# Select the bit positions to target\n",
    "bits = range(8)     # LSB is bit 0\n",
    "# Select the precision of the quantized integer synaptic weights\n",
    "qdtype = torch.uint8"
   ]
  },
  {
   "cell_type": "markdown",
   "id": "3a899bf5",
   "metadata": {},
   "source": [
    "## Demo Environment Initialization"
   ]
  },
  {
   "cell_type": "code",
   "execution_count": null,
   "id": "ca5258f0",
   "metadata": {},
   "outputs": [],
   "source": [
    "# Setup the fault simulation demo environment\n",
    "# Selects the case study, e.g., the LeNet network without dropout\n",
    "demo.prepare(casestudy='nmnist-lenet', dropout=False)\n",
    "\n",
    "# Load the network\n",
    "net = demo.get_net(os.path.join(demo.DEMO_DIR, 'models', demo.get_fnetname()))\n",
    "# Create a dataset loader for the testing set\n",
    "test_loader = demo.get_loader(train=False)"
   ]
  },
  {
   "cell_type": "markdown",
   "id": "e63b4149",
   "metadata": {},
   "source": [
    "## FI Campaigns Execution & Results Visualization"
   ]
  },
  {
   "cell_type": "code",
   "execution_count": null,
   "id": "cb0d0690",
   "metadata": {},
   "outputs": [],
   "source": [
    "# Calculate total number of FI experiments to be conducted\n",
    "cmpns_total = len(layers) * len(bits)\n",
    "cmpns_count = 0\n",
    "\n",
    "# For each targeted layer\n",
    "for lay_name in layers:\n",
    "    # Find scale and zero point for the quantization of the synaptic weights of the layer\n",
    "    W = getattr(net, lay_name).weight\n",
    "    scale, zero_point, _ = qargs_from_tensor(W, qdtype)\n",
    "\n",
    "    # For each targeted bit position\n",
    "    for b in bits:\n",
    "        # Create a SpikeFI Campaign with a descriptive name\n",
    "        cmpn_name = demo.get_fnetname().removesuffix('.pt') + f\"_synapse_bitflip_{lay_name or 'ALL'}_b{b}\"\n",
    "        cmpn = sfi.Campaign(net, demo.shape_in, net.slayer, name=cmpn_name)\n",
    "        cmpns_count += 1\n",
    "\n",
    "        # Inject bitflipped synapse faults across 250^2 randomly selected synaptic weights in the layer\n",
    "        # Creates a separate fault round containing a single fault each\n",
    "        cmpn.inject_complete(sfi.fm.BitflippedSynapse(b, scale, zero_point, qdtype),\n",
    "                             [lay_name], fault_sampling_k=250**2)\n",
    "\n",
    "        # Print status information\n",
    "        print(f\"Campaign {cmpns_count}/{cmpns_total}: '{cmpn.name}'\")\n",
    "\n",
    "        # Execute FI experiments for current targeted layer and bit position\n",
    "        cmpn.run(test_loader, spike_loss=snn.loss(demo.net_params).to(cmpn.device))\n",
    "\n",
    "        # Visualize results with a heat map\n",
    "        # The 'fig' object can be stored in a pickle file for later use/edit\n",
    "        preserve_dim = 'nmnist' in demo.case_study\n",
    "        fig = sfi.visual.heat(cmpn.export(), preserve_dim=True, format='png')\n",
    "\n",
    "        # Save results in a pkl file\n",
    "        cmpn.save()"
   ]
  }
 ],
 "metadata": {
  "kernelspec": {
   "display_name": "Python 3",
   "language": "python",
   "name": "python3"
  },
  "language_info": {
   "codemirror_mode": {
    "name": "ipython",
    "version": 3
   },
   "file_extension": ".py",
   "mimetype": "text/x-python",
   "name": "python",
   "nbconvert_exporter": "python",
   "pygments_lexer": "ipython3",
   "version": "3.11.11"
  }
 },
 "nbformat": 4,
 "nbformat_minor": 5
}
