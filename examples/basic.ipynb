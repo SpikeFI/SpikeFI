{
 "cells": [
  {
   "cell_type": "markdown",
   "id": "7b768ef2",
   "metadata": {},
   "source": [
    "# Example: _Basic_\n",
    "\n",
    "_A simple example to demonstrate the basic usage of SpikeFI's features._\n",
    "\n",
    "After loading a trained network (see 'train_golden' example), a campaign object is initiated. First, three faults are defined, namely fx, fy, and fz, which are injected in two fault rounds to form various scenarios of FI experiments. The classification accuracy of the faulty networks is reported for each experiment and the results are stored in a file. Continuing, the campaign object is reset and a new FI campaign is initiated to perform the complete assessment of the network's output layer by injected one bitflipped synapse fault at the MSB of every synaptic weight of the layer. Then, the FI experiment targets each synapse individually, meaning that only one synapse is faulty at a time. Finally, results are plotted in a heat map and stored in a file. This example is the implementation of the pseudo-code presented in the SpikeFI scientific publication."
   ]
  },
  {
   "cell_type": "code",
   "execution_count": null,
   "id": "451030ff",
   "metadata": {},
   "outputs": [],
   "source": [
    "import torch\n",
    "\n",
    "import spikefi as sfi\n",
    "from spikefi.models import DeadNeuron, ParametricNeuron, SaturatedSynapse, BitflippedSynapse\n",
    "from spikefi.fault import FaultSite, Fault\n",
    "from spikefi.core import Campaign\n",
    "\n",
    "import demo"
   ]
  },
  {
   "cell_type": "markdown",
   "id": "1ca94b79",
   "metadata": {},
   "source": [
    "## Demo Environment Initialization"
   ]
  },
  {
   "cell_type": "code",
   "execution_count": null,
   "id": "db00b388",
   "metadata": {},
   "outputs": [],
   "source": [
    "# Setup the fault simulation demo environment\n",
    "# Selects the case study, e.g., the LeNet network without dropout\n",
    "demo.prepare(casestudy='nmnist-lenet', dropout=False)\n",
    "\n",
    "# Select the network file from directory, e.g., SpikeFI -> out -> net -> nmnist-lenet_net.py\n",
    "net_path = sfi.utils.io.make_net_filepath(demo.get_fnetname())\n",
    "# Load the network\n",
    "net: demo.Network = torch.load(net_path, weights_only=False)\n",
    "# Configure the network to the evaluation mode (network is already trained)\n",
    "net.eval()\n",
    "\n",
    "# Create a dataset loader for the testing set\n",
    "test_loader = demo.get_loader('Test')"
   ]
  },
  {
   "cell_type": "markdown",
   "id": "e2bf03ed",
   "metadata": {},
   "source": [
    "## FI Campaign Setup"
   ]
  },
  {
   "cell_type": "code",
   "execution_count": null,
   "id": "9f187f86",
   "metadata": {},
   "outputs": [],
   "source": [
    "# Create a SpikeFI Campaign object for network 'net'\n",
    "# Spiking-related information is configured by the 'net.slayer' object\n",
    "cmpn = Campaign(net, demo.shape_in, net.slayer, name='basic-fi')\n",
    "\n",
    "# Create 3 different faults\n",
    "# Fault 'fx' is a Dead Neuron fault to randomly target a neuron of layer SF2\n",
    "fx = Fault(DeadNeuron(), FaultSite('SF2'))\n",
    "# Fault 'fy' is a Saturated Synapse fault to randomly target a synapse \n",
    "# between layers SF1 and its predecessor and set the synaptic weight to 10\n",
    "fy = Fault(SaturatedSynapse(10), FaultSite('SF1'))\n",
    "# Fault 'fz' is a multiple (4) neuron parametric fault targeting the threshold parameter theta\n",
    "# and setting it to half its nominal value in 4 neurons randomly selected across the entire network\n",
    "fz = Fault(ParametricNeuron('theta', 0.5), [FaultSite(), FaultSite(), FaultSite(), FaultSite()])\n",
    "\n",
    "# Round 0: Inject fault fx (single-fault scenario)\n",
    "cmpn.inject([fx])\n",
    "# Round 1: Inject both fy and fz faults (multiple-fault scenario)\n",
    "cmpn.then_inject([fy, fz])"
   ]
  },
  {
   "cell_type": "markdown",
   "id": "ae741652",
   "metadata": {},
   "source": [
    "## FI Campaign Execution & Results"
   ]
  },
  {
   "cell_type": "code",
   "execution_count": null,
   "id": "f11bc7fd",
   "metadata": {},
   "outputs": [],
   "source": [
    "# Execute the fault injection experiments, applying all optimizations\n",
    "cmpn.run(test_loader, opt=sfi.CampaignOptimization.O4)\n",
    "\n",
    "# Show the results, i.e., the classification accuracy corresponding to each fault round\n",
    "for r, perf in enumerate(cmpn.performance):\n",
    "    print(f\"Round {r} performance: {perf.testing.maxAccuracy * 100.0} %\")\n",
    "\n",
    "# Save the campaign and its results to SpikeFI -> out -> res -> basic-fi.pkl\n",
    "cmpn.save()"
   ]
  },
  {
   "cell_type": "markdown",
   "id": "b62fdc4f",
   "metadata": {},
   "source": [
    "## New FI Campaign Execution & Results Visualization"
   ]
  },
  {
   "cell_type": "code",
   "execution_count": null,
   "id": "230ecb3f",
   "metadata": {},
   "outputs": [],
   "source": [
    "# Reset the campaign, i.e., remove all faults and fault rounds\n",
    "cmpn.eject()\n",
    "\n",
    "# Find min and max synaptic weights of layer 'SF2' to use for \n",
    "# the quantization of the layer's synaptic weights\n",
    "layer = getattr(net, 'SF2')\n",
    "wmin = layer.weight.min().item()\n",
    "wmax = layer.weight.max().item()\n",
    "\n",
    "# Create fault model 'fm' to be a Bitflipped Synapse with 8-bit quantized\n",
    "# integer synaptic weights, targeting the bit 7 (MSB) to be flipped\n",
    "fm = BitflippedSynapse(7, wmin, wmax, torch.uint8)\n",
    "# Inject a bitflipped synapse fault to every synapse of layer 'SF2', one at a time\n",
    "cmpn.inject_complete(fm, ['SF2'])\n",
    "\n",
    "# Execute the fault injection experiments targeting the synapses of whole layer,\n",
    "# when only one is faulty at a time\n",
    "cmpn.run(test_loader)\n",
    "\n",
    "# Export campaign data to use with visualization tools\n",
    "cmpn_data = cmpn.export()\n",
    "\n",
    "# Visualize the results using a heatmap plot stored at SpikeFI -> fig -> basic-fi_7_heat.png\n",
    "# The 'fig' object can be stored in a pickle file for later use/edit\n",
    "fig = sfi.visual.heat(cmpn_data, preserve_dim=True, format='png')\n",
    "\n",
    "\n",
    "# Save the campaign and its results to SpikeFI -> out -> res -> bitflip_7_SF2.pkl\n",
    "cmpn.save(sfi.utils.io.make_res_filepath('bitflip_7_SF2.pkl'))"
   ]
  }
 ],
 "metadata": {
  "kernelspec": {
   "display_name": "Python 3",
   "language": "python",
   "name": "python3"
  },
  "language_info": {
   "codemirror_mode": {
    "name": "ipython",
    "version": 3
   },
   "file_extension": ".py",
   "mimetype": "text/x-python",
   "name": "python",
   "nbconvert_exporter": "python",
   "pygments_lexer": "ipython3",
   "version": "3.11.11"
  }
 },
 "nbformat": 4,
 "nbformat_minor": 5
}
