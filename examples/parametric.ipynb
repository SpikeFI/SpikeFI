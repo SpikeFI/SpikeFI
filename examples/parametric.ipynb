{
 "cells": [
  {
   "cell_type": "markdown",
   "id": "38bc040c",
   "metadata": {},
   "source": [
    "# Example: _parametric_\n",
    "\n",
    "_An example to demonstrate a study of the parametric neuron faults for various neuron parameters used by the SRM neurons._\n",
    "\n",
    "In the beginning, the configuration parameters are specified to describe the FI campaigns to be carried out. Namely, the 'layers' parameter sets the layer(s) to target; 'params' selects the SRM neuron parameter(s) to vary their value; and 'percent' defines the percentage of the faulty value(s) relatively to the nominal one, which is indicated by the network's yaml configuration file (e.g., demo -> config -> nmnist.yaml). Next, the demo environment is prepared for the FI experiments, the subject network is loaded, and a dataloader for the testing set is created. Continuing with the main part of the example, a nested for-loop iterates over all the combinations of the configuration parameters, where the corresponding FI campaigns are set up and executed. Each FI campaign targets each of the neuron of the selected layer(s) individually, or in other words, creates a separate fault round for each faulty location. In addition, a sampling of maximum 250^2 neuron positions are to be injected in the case of very large layers, so that the experiment time is reduced. Those neuron locations are picked up randomly, while in the case that the targeted layer is composed of less neurons, all of them will be subject of the FI experiments. After an FI campaign is over, the results are stored in a file and the example continues with the next one. When all the FI campaigns regarding the same SRM parameter finish, the results are visualized collectively for these experiments using a comparative plot of classification accuracy vs. parameter's deviation."
   ]
  },
  {
   "cell_type": "code",
   "execution_count": null,
   "id": "bee0cf5b",
   "metadata": {},
   "outputs": [],
   "source": [
    "import os\n",
    "import slayerSNN as snn\n",
    "import spikefi as sfi\n",
    "import demo"
   ]
  },
  {
   "cell_type": "markdown",
   "id": "c961c291",
   "metadata": {},
   "source": [
    "## Configration"
   ]
  },
  {
   "cell_type": "code",
   "execution_count": null,
   "id": "f30e0199",
   "metadata": {},
   "outputs": [],
   "source": [
    "# Configuration parameters for the neuron parametric FI experiments\n",
    "# Select one or more layers to target (use an empty string '' to select all layers)\n",
    "layers = ['SC2']    # For example: 'SF2', 'SF1', 'SC3', 'SC2', 'SC1', ''\n",
    "# Select one or more neuron parameters to target\n",
    "params = ['theta', 'tauRef']  # For example: 'theta', 'tauSr', 'tauRef'\n",
    "# Select the percentages of the parameter nominal values to set the faulty values\n",
    "percent = range(10, 31, 10)    # For example: from 10% to 300% with a step of 10%"
   ]
  },
  {
   "cell_type": "markdown",
   "id": "c11cbeb2",
   "metadata": {},
   "source": [
    "## Demo Environment Initialization"
   ]
  },
  {
   "cell_type": "code",
   "execution_count": null,
   "id": "14db4d28",
   "metadata": {},
   "outputs": [],
   "source": [
    "# Setup the fault simulation demo environment\n",
    "# Selects the case study, e.g., the LeNet network without dropout\n",
    "demo.prepare(casestudy='nmnist-lenet', dropout=False)\n",
    "\n",
    "# Load the network\n",
    "net = demo.get_net(os.path.join(demo.DEMO_DIR, 'models', demo.get_fnetname()))\n",
    "# Create a dataset loader for the testing set\n",
    "test_loader = demo.get_loader(train=False)"
   ]
  },
  {
   "cell_type": "markdown",
   "id": "6627a383",
   "metadata": {},
   "source": [
    "## FI Campaigns Execution & Results Visualization"
   ]
  },
  {
   "cell_type": "code",
   "execution_count": null,
   "id": "5e2b912c",
   "metadata": {},
   "outputs": [],
   "source": [
    "# Calculate total number of FI campaigns\n",
    "cmpns_total = len(params) * len(layers) * len(percent)\n",
    "cmpns_count = 0\n",
    "\n",
    "# For each targeted parameter\n",
    "for param in params:\n",
    "    cmpns_data = []\n",
    "    # For each targeted layer\n",
    "    for lay_name in layers:\n",
    "        # For each faulty percentage of the nominal value\n",
    "        for cent in percent:\n",
    "            # Create a SpikeFI Campaign with a descriptive name\n",
    "            cmpn_name = demo.get_fnetname().removesuffix('.pt') + f\"_neuron_{param}_{lay_name or 'ALL'}_c{cent}\"\n",
    "            cmpn = sfi.Campaign(net, demo.shape_in, net.slayer, name=cmpn_name)\n",
    "            cmpns_count += 1\n",
    "\n",
    "            # Inject parametric neuron faults across all neurons of the layer\n",
    "            # with a faulty parameter value set to cent% of the nominal value\n",
    "            # Creates a separate fault round containing a single fault each\n",
    "            cmpn.inject_complete(sfi.fm.ParametricNeuron(param, cent / 100.0), [lay_name])\n",
    "\n",
    "            # Print status information\n",
    "            print(f\"Campaign {cmpns_count}/{cmpns_total}: '{cmpn.name}'\")\n",
    "\n",
    "            # Execute FI experiments for current targeted neuron parameter, layer, and faulty percentage\n",
    "            cmpn.run(test_loader, spike_loss=snn.loss(demo.net_params).to(cmpn.device))\n",
    "\n",
    "            # Print the duration of the FI campaign in seconds\n",
    "            print(f\"Duration: {cmpn.duration : .2f} secs\")\n",
    "\n",
    "            # Keep the campaign data aside to use later in the combinatorial plot\n",
    "            cmpns_data.append(cmpn.export())\n",
    "\n",
    "            # Save the campaign results in a pkl file\n",
    "            cmpn.save()\n",
    "\n",
    "    # Visualize results as a function of the parameter's value deviation\n",
    "    # Creates one plot per neuron parameter\n",
    "    # The 'fig' object can be stored in a pickle file for later use/edit\n",
    "    fig = sfi.visual.plot(cmpns_data, xlabel=f\"{param} (% of nominal value)\", format='png')"
   ]
  }
 ],
 "metadata": {
  "kernelspec": {
   "display_name": "Python 3",
   "language": "python",
   "name": "python3"
  },
  "language_info": {
   "codemirror_mode": {
    "name": "ipython",
    "version": 3
   },
   "file_extension": ".py",
   "mimetype": "text/x-python",
   "name": "python",
   "nbconvert_exporter": "python",
   "pygments_lexer": "ipython3",
   "version": "3.11.11"
  }
 },
 "nbformat": 4,
 "nbformat_minor": 5
}
