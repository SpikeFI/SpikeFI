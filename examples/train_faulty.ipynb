{
 "cells": [
  {
   "cell_type": "markdown",
   "id": "ad040cb2",
   "metadata": {},
   "source": [
    "# Example: _Train Faulty_\n",
    "\n",
    "_An example of fault injections before training._\n",
    "\n",
    "In this example, faults are injected before the training of the network. Faults of the selected fault model are injected in one or more sites in the targeted layers of the network, expressed as a percentage of the total neurons or synapses, depending on the type of the fault model. The result of the FI experiments is a newly trained instance of the network for each fault round, that is, for each fault percentage. Finally, the networks are exported as .pt files, the campaign information is stored in a .pkl file, and the learning curve(s) are plotted and stored.\n",
    "\n",
    "It is also possible to initialize the 'net' variable to an already trained instance of a network, and then re-train it with faults."
   ]
  },
  {
   "cell_type": "code",
   "execution_count": null,
   "id": "449451f6",
   "metadata": {},
   "outputs": [],
   "source": [
    "import torch\n",
    "import slayerSNN as snn\n",
    "import spikefi as sfi\n",
    "from spikefi.fault import Fault\n",
    "import demo"
   ]
  },
  {
   "cell_type": "markdown",
   "id": "7e155bc5",
   "metadata": {},
   "source": [
    "## Configuration"
   ]
  },
  {
   "cell_type": "code",
   "execution_count": null,
   "id": "89d10837",
   "metadata": {},
   "outputs": [],
   "source": [
    "# Configuration parameters for the optimizations example\n",
    "# Select one or more layers to target (use an empty string '' to target the whole network)\n",
    "layers = []\n",
    "# Select the number of training epochs\n",
    "n_epochs = 20\n",
    "# Select the percentage(s) of faults to inject across the selected layers before training\n",
    "percent = range(10, 31, 10)\n",
    "# Learning rate\n",
    "learn_r = 1e-3\n",
    "# Select the fault model to be used in the FI experiments\n",
    "f_model = sfi.fm.PerturbedSynapse(0.5)\n",
    "\n",
    "\n",
    "# Helper function to nicely print a range\n",
    "def get_range_str(r: range):\n",
    "    start, step = r.start, r.step\n",
    "    stop = r.start + (len(r) - 1) * r.step\n",
    "    return f\"{start}-{stop}-{step}\""
   ]
  },
  {
   "cell_type": "markdown",
   "id": "eeabb30d",
   "metadata": {},
   "source": [
    "## Demo Environment Initialization"
   ]
  },
  {
   "cell_type": "code",
   "execution_count": null,
   "id": "2c6c7664",
   "metadata": {},
   "outputs": [],
   "source": [
    "# Setup the fault simulation demo environment\n",
    "# Selects the case study, e.g., the LeNet network without dropout\n",
    "demo.prepare(casestudy='nmnist-lenet', dropout=False)\n",
    "\n",
    "# Create a network instance (or load a trained one to perform re-training with faults)\n",
    "net = demo.Network(demo.net_params, demo.dropout_en).to(demo.device)"
   ]
  },
  {
   "cell_type": "markdown",
   "id": "44f9b28f",
   "metadata": {},
   "source": [
    "## Training with Faults"
   ]
  },
  {
   "cell_type": "code",
   "execution_count": null,
   "id": "cd0c082b",
   "metadata": {},
   "outputs": [],
   "source": [
    "# Initialize the campaign object\n",
    "fm_name = f_model.get_name_snake_case(delimiter='-')\n",
    "cmpn_name = f\"{demo.get_base_fname(train=True)}_{fm_name}_c{get_range_str(percent)}\"\n",
    "cmpn = sfi.Campaign(net, demo.shape_in, net.slayer, cmpn_name)\n",
    "\n",
    "# If specific layers are selected...\n",
    "if bool(layers) and all(layers):\n",
    "    lay_inj = layers\n",
    "    l_sizes = [cmpn.layers_info.get_size(f_model.is_synaptic(), l_name) for l_name in layers]\n",
    "else:  # If the entire network is selected...\n",
    "    # Exclude the output layer from the FI experiments\n",
    "    lay_inj = cmpn.layers_info.get_injectables()[:-1]\n",
    "    l_sizes = cmpn.layers_info.get_sizes_inj(f_model.is_synaptic())[:-1]\n",
    "\n",
    "# Each fault round will result to a new trained network instance\n",
    "for r, c in enumerate(percent):\n",
    "    # Inject faults randomly across the targeted layers\n",
    "    cmpn.then_inject([Fault.multiple_random_percent(f_model, c / 100., lay_inj, l_sizes)])\n",
    "cmpn.rounds.pop(0)\n",
    "\n",
    "# Execute the FI experiments (train a new network instance for each fault round)\n",
    "faulties = cmpn.run_train(n_epochs, demo.get_loader(train=True),\n",
    "                          optimizer=torch.optim.Adam(net.parameters(), lr=learn_r, amsgrad=True),\n",
    "                          spike_loss=snn.loss(demo.net_params).to(demo.device))\n",
    "\n",
    "# Save trained networks\n",
    "for faulty in faulties:\n",
    "    cmpn.save_net(faulty)\n",
    "\n",
    "# Save results in a pickle file\n",
    "cmpn.save()\n",
    "\n",
    "# Plot and save the learning curve(s)\n",
    "sfi.visual.learning_curve([cmpn.export()], format='png')"
   ]
  }
 ],
 "metadata": {
  "language_info": {
   "name": "python"
  }
 },
 "nbformat": 4,
 "nbformat_minor": 5
}
